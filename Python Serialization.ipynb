{
 "cells": [
  {
   "cell_type": "markdown",
   "metadata": {},
   "source": [
    "# Python Object Serialization\n",
    "\n",
    "\n",
    "## Pickle \n",
    "\n",
    "Pickle is a very powerful library to serialize and deserialize python objects.\n",
    "\n",
    "Use Cases :\n",
    "\n",
    "* Save state of program to disk\n",
    "* Transfer data over network connection\n",
    "* Store python objects in database\n",
    "\n"
   ]
  },
  {
   "cell_type": "code",
   "execution_count": 32,
   "metadata": {
    "collapsed": true
   },
   "outputs": [],
   "source": [
    "import pickle\n",
    "import pandas as ps"
   ]
  },
  {
   "cell_type": "markdown",
   "metadata": {
    "collapsed": true
   },
   "source": [
    "\n",
    "Note - Python 3 automatically will try to use cpickle if available\n"
   ]
  },
  {
   "cell_type": "code",
   "execution_count": 33,
   "metadata": {
    "collapsed": true
   },
   "outputs": [],
   "source": [
    "# Helper functions\n",
    "def savePickle(object, filename, protocol = pickle.HIGHEST_PROTOCOL):\n",
    "    pickle.dump(object, open(filename, \"wb\",),protocol)\n",
    "\n",
    "def loadPickle(filename):\n",
    "    return pickle.load(open(filename, \"rb\"))"
   ]
  },
  {
   "cell_type": "markdown",
   "metadata": {},
   "source": [
    "## Dictionary Sample"
   ]
  },
  {
   "cell_type": "code",
   "execution_count": 34,
   "metadata": {},
   "outputs": [
    {
     "name": "stdout",
     "output_type": "stream",
     "text": [
      "{'Mammal': {'Feline': ['Cat', 'Tiger'], 'Canine': ['Dog', 'Wolf']}, 'Reptile': {'Snakes': ['Rattler', 'King Cobra', 'Mamba'], 'Lizard': ['Monitor', 'Gila Monster']}}\n",
      "{'Feline': ['Cat', 'Tiger'], 'Canine': ['Dog', 'Wolf']}\n"
     ]
    }
   ],
   "source": [
    "myDict = {'Mammal': { 'Feline':['Cat','Tiger'],'Canine':['Dog','Wolf']},\n",
    "          'Reptile':{'Snakes':['Rattler','King Cobra','Mamba'],'Lizard':['Monitor','Gila Monster']  }\n",
    "         }\n",
    "\n",
    "print(myDict)\n",
    "print(myDict[\"Mammal\"])\n"
   ]
  },
  {
   "cell_type": "code",
   "execution_count": 35,
   "metadata": {},
   "outputs": [
    {
     "name": "stderr",
     "output_type": "stream",
     "text": [
      "ERROR:root:Line magic function `%cat` not found.\n"
     ]
    },
    {
     "name": "stdout",
     "output_type": "stream",
     "text": [
      " Volume in drive G is New Volume\n",
      " Volume Serial Number is 22C9-4C20\n",
      "\n",
      " Directory of G:\\dev\\python\\PySerialization\n",
      "\n",
      "11/16/2017  08:17 PM    <DIR>          .\n",
      "11/16/2017  08:17 PM    <DIR>          ..\n",
      "11/12/2017  06:23 PM             1,258 .gitignore\n",
      "11/12/2017  06:26 PM    <DIR>          .ipynb_checkpoints\n",
      "11/16/2017  08:17 PM           551,417 DecissionTree.p\n",
      "11/12/2017  06:23 PM            11,558 LICENSE\n",
      "11/16/2017  08:18 PM               178 MyDictionary.p\n",
      "11/16/2017  08:16 PM            11,144 Python Serialization.ipynb\n",
      "11/12/2017  06:23 PM                69 README.md\n",
      "               6 File(s)        575,624 bytes\n",
      "               3 Dir(s)  688,629,551,104 bytes free\n"
     ]
    }
   ],
   "source": [
    "savePickle(myDict,\"MyDictionary.p\")\n",
    "\n",
    "\n",
    "%ls\n",
    "%cat \"MyDictionary.p\""
   ]
  },
  {
   "cell_type": "code",
   "execution_count": 36,
   "metadata": {},
   "outputs": [],
   "source": [
    "# Delete variable from Memory\n",
    "del(myDict)\n",
    "#print(myDict)"
   ]
  },
  {
   "cell_type": "code",
   "execution_count": 37,
   "metadata": {},
   "outputs": [
    {
     "name": "stdout",
     "output_type": "stream",
     "text": [
      "{'Mammal': {'Feline': ['Cat', 'Tiger'], 'Canine': ['Dog', 'Wolf']}, 'Reptile': {'Snakes': ['Rattler', 'King Cobra', 'Mamba'], 'Lizard': ['Monitor', 'Gila Monster']}}\n",
      "{'Feline': ['Cat', 'Tiger'], 'Canine': ['Dog', 'Wolf']}\n"
     ]
    }
   ],
   "source": [
    "newDict = loadPickle(\"MyDictionary.p\")\n",
    "\n",
    "print(newDict)\n",
    "print(newDict[\"Mammal\"])\n"
   ]
  },
  {
   "cell_type": "code",
   "execution_count": null,
   "metadata": {},
   "outputs": [],
   "source": []
  },
  {
   "cell_type": "markdown",
   "metadata": {},
   "source": [
    "# Save model "
   ]
  },
  {
   "cell_type": "code",
   "execution_count": 38,
   "metadata": {},
   "outputs": [
    {
     "name": "stdout",
     "output_type": "stream",
     "text": [
      "* Training sample size :  353\n",
      "* Validation sample size :  89\n",
      "DecisionTreeClassifier(class_weight=None, criterion='gini', max_depth=None,\n",
      "            max_features=None, max_leaf_nodes=None,\n",
      "            min_impurity_decrease=0.0, min_impurity_split=None,\n",
      "            min_samples_leaf=1, min_samples_split=5,\n",
      "            min_weight_fraction_leaf=0.0, presort=False, random_state=1024,\n",
      "            splitter='best')\n"
     ]
    }
   ],
   "source": [
    "from sklearn import datasets\n",
    "from sklearn import tree\n",
    "from sklearn.cross_validation import train_test_split\n",
    "from sklearn.cross_validation import  cross_val_score\n",
    "\n",
    "diabetes = datasets.load_diabetes()\n",
    "X = diabetes.data\n",
    "y = diabetes.target\n",
    "\n",
    "X_train, X_test, y_train, y_test = train_test_split(X, y, test_size=0.20, random_state=42)\n",
    "\n",
    "print (\"* Training sample size : \", len(X_train))\n",
    "print (\"* Validation sample size : \", len(X_test))\n",
    "\n",
    "dt = tree.DecisionTreeClassifier(criterion='gini',min_samples_split=5, random_state=1024)\n",
    "dt.fit(X_train, y_train)\n",
    "\n",
    "print(dt)\n",
    "savePickle(dt,\"DecissionTree.p\")\n"
   ]
  },
  {
   "cell_type": "markdown",
   "metadata": {},
   "source": [
    "## Load the Model "
   ]
  },
  {
   "cell_type": "code",
   "execution_count": 39,
   "metadata": {},
   "outputs": [
    {
     "name": "stdout",
     "output_type": "stream",
     "text": [
      "DecisionTreeClassifier(class_weight=None, criterion='gini', max_depth=None,\n",
      "            max_features=None, max_leaf_nodes=None,\n",
      "            min_impurity_decrease=0.0, min_impurity_split=None,\n",
      "            min_samples_leaf=1, min_samples_split=5,\n",
      "            min_weight_fraction_leaf=0.0, presort=False, random_state=1024,\n",
      "            splitter='best')\n"
     ]
    }
   ],
   "source": [
    "newDT = loadPickle(\"DecissionTree.p\")\n",
    "\n",
    "print(newDT)\n"
   ]
  },
  {
   "cell_type": "markdown",
   "metadata": {},
   "source": [
    "## References\n",
    "\n",
    "\n",
    " * https://docs.python.org/3/library/pickle.html\n",
    " * [Scikit Learn Model persistance](http://scikit-learn.org/stable/modules/model_persistence.html)\n",
    " * [Understanding Python pickling and how to use it securely](https://www.synopsys.com/blogs/software-security/python-pickling/)\n",
    " \n",
    "### Other options\n",
    " \n",
    "  * [MessagePack](https://msgpack.org/)\n",
    "  * [Json Seralizer](https://docs.python.org/2/library/json.html)\n",
    "  * [CloudPickle](https://github.com/cloudpipe/cloudpickle)\n",
    " "
   ]
  },
  {
   "cell_type": "code",
   "execution_count": null,
   "metadata": {
    "collapsed": true
   },
   "outputs": [],
   "source": []
  },
  {
   "cell_type": "code",
   "execution_count": null,
   "metadata": {
    "collapsed": true
   },
   "outputs": [],
   "source": []
  }
 ],
 "metadata": {
  "anaconda-cloud": {},
  "kernelspec": {
   "display_name": "Python 3",
   "language": "python",
   "name": "python3"
  },
  "language_info": {
   "codemirror_mode": {
    "name": "ipython",
    "version": 3
   },
   "file_extension": ".py",
   "mimetype": "text/x-python",
   "name": "python",
   "nbconvert_exporter": "python",
   "pygments_lexer": "ipython3",
   "version": "3.6.3"
  }
 },
 "nbformat": 4,
 "nbformat_minor": 2
}
