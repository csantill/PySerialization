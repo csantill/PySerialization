{
 "cells": [
  {
   "cell_type": "markdown",
   "metadata": {},
   "source": [
    "# Python Object Serialization\n",
    "\n",
    "\n",
    "## Carlos Santillan \n",
    "___Principal Software Engineer___\n",
    "\n",
    "_Bentley Systems Inc._\n",
    "## PyData meetup December, 2017\n",
    "\n",
    "\n",
    "\n",
    "\n"
   ]
  },
  {
   "cell_type": "markdown",
   "metadata": {},
   "source": [
    "## Pickle \n",
    "\n",
    "Pickle is a very powerful library to serialize and deserialize python objects.\n",
    "\n",
    "Use Cases :\n",
    "\n",
    "* Save state of program to disk\n",
    "* Transfer data over network connection\n",
    "* Store python objects in database"
   ]
  },
  {
   "cell_type": "code",
   "execution_count": 1,
   "metadata": {
    "collapsed": true
   },
   "outputs": [],
   "source": [
    "import pickle\n",
    "import sys"
   ]
  },
  {
   "cell_type": "markdown",
   "metadata": {
    "collapsed": true
   },
   "source": [
    "The pickle module implements a fundamental, but powerful algorithm for serializing and de-serializing a Python object structure. “Pickling” is the process whereby a Python object hierarchy is converted into a byte stream, and “unpickling” is the inverse operation, whereby a byte stream is converted back into an object hierarchy. \n",
    "\n",
    "cpickle is a high performance compatible API. \n",
    "\n",
    "Note - Python 3 automatically will try to use cpickle if available\n",
    "\n",
    "Protocol versions:\n",
    "* 0 is the original “human-readable” protocol and is backwards compatible with earlier versions of Python.\n",
    "* 1 is an old binary format which is also compatible with earlier versions of Python.\n",
    "* 2 was introduced in Python 2.3. It provides much more efficient pickling of new-style classes.\n",
    "* 3 was added in Python 3.0. It has explicit support for bytes objects and cannot be unpickled by Python 2.x. \n",
    "* 4 was added in Python 3.4. supports for very large objects, pickling more kinds of objects, and some data format optimizations. \n"
   ]
  },
  {
   "cell_type": "code",
   "execution_count": 2,
   "metadata": {
    "collapsed": true
   },
   "outputs": [],
   "source": [
    "# Helper functions\n",
    "def savePickle(object, filename, protocol = pickle.HIGHEST_PROTOCOL):\n",
    "    pickle.dump(object, open(filename, \"wb\",),protocol)\n",
    "\n",
    "def loadPickle(filename):\n",
    "    return pickle.load(open(filename, \"rb\"))\n",
    "\n",
    "def printVariables():\n",
    "    for var,obj in globals().items():\n",
    "        if var.startswith(\"_\") == 0 :\n",
    "            print( var + \":  \"+str(sys.getsizeof(obj)) )"
   ]
  },
  {
   "cell_type": "markdown",
   "metadata": {},
   "source": [
    "## Dictionary Sample"
   ]
  },
  {
   "cell_type": "code",
   "execution_count": 3,
   "metadata": {},
   "outputs": [
    {
     "name": "stdout",
     "output_type": "stream",
     "text": [
      "{'Feline': ['Cat', 'Tiger'], 'Canine': ['Dog', 'Wolf']}\n",
      "In:  96\n",
      "Out:  240\n",
      "get_ipython:  64\n",
      "exit:  56\n",
      "quit:  56\n",
      "pickle:  80\n",
      "sys:  80\n",
      "savePickle:  136\n",
      "loadPickle:  136\n",
      "printVariables:  136\n",
      "myDict:  240\n"
     ]
    }
   ],
   "source": [
    "myDict = {'Mammal': { 'Feline':['Cat','Tiger'],'Canine':['Dog','Wolf']},\n",
    "          'Reptile':{'Snakes':['Rattler','King Cobra','Mamba'],'Lizard':['Monitor','Gila Monster']  }\n",
    "         }\n",
    "print(myDict[\"Mammal\"])\n",
    "printVariables()\n",
    "\n"
   ]
  },
  {
   "cell_type": "code",
   "execution_count": 4,
   "metadata": {},
   "outputs": [
    {
     "name": "stdout",
     "output_type": "stream",
     "text": [
      " Volume in drive G is New Volume\n",
      " Volume Serial Number is 22C9-4C20\n",
      "\n",
      " Directory of G:\\dev\\python\\PySerialization\n",
      "\n",
      "11/25/2017  08:49 PM    <DIR>          .\n",
      "11/25/2017  08:49 PM    <DIR>          ..\n",
      "11/12/2017  06:23 PM             1,258 .gitignore\n",
      "11/12/2017  06:26 PM    <DIR>          .ipynb_checkpoints\n",
      "11/25/2017  08:49 PM           551,417 DecisionTree.p\n",
      "11/12/2017  06:23 PM            11,558 LICENSE\n",
      "11/25/2017  08:49 PM            16,576 MyDF.p\n",
      "11/25/2017  08:49 PM            16,576 MyDFpd.p\n",
      "11/25/2017  08:49 PM             4,252 MyDFpdCompressed.p\n",
      "11/25/2017  08:49 PM               178 MyDictionary.p\n",
      "11/25/2017  08:48 PM            18,741 Python Serialization.ipynb\n",
      "11/12/2017  06:23 PM                69 README.md\n",
      "               9 File(s)        620,625 bytes\n",
      "               3 Dir(s)  688,604,397,568 bytes free\n"
     ]
    }
   ],
   "source": [
    "savePickle(myDict,\"MyDictionary.p\")\n",
    "\n",
    "%ls\n",
    "#%cat \"MyDictionary.p\""
   ]
  },
  {
   "cell_type": "code",
   "execution_count": 5,
   "metadata": {},
   "outputs": [
    {
     "name": "stdout",
     "output_type": "stream",
     "text": [
      "In:  128\n",
      "Out:  240\n",
      "get_ipython:  64\n",
      "exit:  56\n",
      "quit:  56\n",
      "pickle:  80\n",
      "sys:  80\n",
      "savePickle:  136\n",
      "loadPickle:  136\n",
      "printVariables:  136\n"
     ]
    }
   ],
   "source": [
    "# Delete variable from Memory\n",
    "del(myDict)\n",
    "printVariables()\n",
    "#print(myDict)"
   ]
  },
  {
   "cell_type": "code",
   "execution_count": 6,
   "metadata": {},
   "outputs": [
    {
     "name": "stdout",
     "output_type": "stream",
     "text": [
      "{'Mammal': {'Feline': ['Cat', 'Tiger'], 'Canine': ['Dog', 'Wolf']}, 'Reptile': {'Snakes': ['Rattler', 'King Cobra', 'Mamba'], 'Lizard': ['Monitor', 'Gila Monster']}}\n",
      "{'Feline': ['Cat', 'Tiger'], 'Canine': ['Dog', 'Wolf']}\n"
     ]
    }
   ],
   "source": [
    "newDict = loadPickle(\"MyDictionary.p\")\n",
    "\n",
    "print(newDict)\n",
    "print(newDict[\"Mammal\"])\n"
   ]
  },
  {
   "cell_type": "markdown",
   "metadata": {},
   "source": [
    "# Save Pandas to pickle\n",
    "\n"
   ]
  },
  {
   "cell_type": "code",
   "execution_count": 7,
   "metadata": {},
   "outputs": [
    {
     "data": {
      "text/html": [
       "<div>\n",
       "<style>\n",
       "    .dataframe thead tr:only-child th {\n",
       "        text-align: right;\n",
       "    }\n",
       "\n",
       "    .dataframe thead th {\n",
       "        text-align: left;\n",
       "    }\n",
       "\n",
       "    .dataframe tbody tr th {\n",
       "        vertical-align: top;\n",
       "    }\n",
       "</style>\n",
       "<table border=\"1\" class=\"dataframe\">\n",
       "  <thead>\n",
       "    <tr style=\"text-align: right;\">\n",
       "      <th></th>\n",
       "      <th>0</th>\n",
       "      <th>1</th>\n",
       "      <th>2</th>\n",
       "      <th>3</th>\n",
       "      <th>4</th>\n",
       "      <th>5</th>\n",
       "      <th>6</th>\n",
       "      <th>7</th>\n",
       "      <th>8</th>\n",
       "      <th>9</th>\n",
       "      <th>...</th>\n",
       "      <th>990</th>\n",
       "      <th>991</th>\n",
       "      <th>992</th>\n",
       "      <th>993</th>\n",
       "      <th>994</th>\n",
       "      <th>995</th>\n",
       "      <th>996</th>\n",
       "      <th>997</th>\n",
       "      <th>998</th>\n",
       "      <th>999</th>\n",
       "    </tr>\n",
       "  </thead>\n",
       "  <tbody>\n",
       "    <tr>\n",
       "      <th>0</th>\n",
       "      <td>0</td>\n",
       "      <td>1</td>\n",
       "      <td>2</td>\n",
       "      <td>3</td>\n",
       "      <td>4</td>\n",
       "      <td>5</td>\n",
       "      <td>6</td>\n",
       "      <td>7</td>\n",
       "      <td>8</td>\n",
       "      <td>9</td>\n",
       "      <td>...</td>\n",
       "      <td>990</td>\n",
       "      <td>991</td>\n",
       "      <td>992</td>\n",
       "      <td>993</td>\n",
       "      <td>994</td>\n",
       "      <td>995</td>\n",
       "      <td>996</td>\n",
       "      <td>997</td>\n",
       "      <td>998</td>\n",
       "      <td>999</td>\n",
       "    </tr>\n",
       "    <tr>\n",
       "      <th>1</th>\n",
       "      <td>1</td>\n",
       "      <td>11</td>\n",
       "      <td>21</td>\n",
       "      <td>31</td>\n",
       "      <td>41</td>\n",
       "      <td>51</td>\n",
       "      <td>61</td>\n",
       "      <td>71</td>\n",
       "      <td>81</td>\n",
       "      <td>91</td>\n",
       "      <td>...</td>\n",
       "      <td>9901</td>\n",
       "      <td>9911</td>\n",
       "      <td>9921</td>\n",
       "      <td>9931</td>\n",
       "      <td>9941</td>\n",
       "      <td>9951</td>\n",
       "      <td>9961</td>\n",
       "      <td>9971</td>\n",
       "      <td>9981</td>\n",
       "      <td>9991</td>\n",
       "    </tr>\n",
       "  </tbody>\n",
       "</table>\n",
       "<p>2 rows × 1000 columns</p>\n",
       "</div>"
      ],
      "text/plain": [
       "   0    1    2    3    4    5    6    7    8    9    ...    990   991   992  \\\n",
       "0    0    1    2    3    4    5    6    7    8    9  ...    990   991   992   \n",
       "1    1   11   21   31   41   51   61   71   81   91  ...   9901  9911  9921   \n",
       "\n",
       "    993   994   995   996   997   998   999  \n",
       "0   993   994   995   996   997   998   999  \n",
       "1  9931  9941  9951  9961  9971  9981  9991  \n",
       "\n",
       "[2 rows x 1000 columns]"
      ]
     },
     "execution_count": 7,
     "metadata": {},
     "output_type": "execute_result"
    }
   ],
   "source": [
    "import pandas as pd\n",
    "\n",
    "df = pd.DataFrame([range(1000), range(1,10000,10)])\n",
    "df.head()\n"
   ]
  },
  {
   "cell_type": "code",
   "execution_count": 8,
   "metadata": {},
   "outputs": [
    {
     "name": "stdout",
     "output_type": "stream",
     "text": [
      " Volume in drive G is New Volume\n",
      " Volume Serial Number is 22C9-4C20\n",
      "\n",
      " Directory of G:\\dev\\python\\PySerialization\n",
      "\n",
      "11/25/2017  08:49 PM    <DIR>          .\n",
      "11/25/2017  08:49 PM    <DIR>          ..\n",
      "11/12/2017  06:23 PM             1,258 .gitignore\n",
      "11/12/2017  06:26 PM    <DIR>          .ipynb_checkpoints\n",
      "11/25/2017  08:49 PM           551,417 DecisionTree.p\n",
      "11/12/2017  06:23 PM            11,558 LICENSE\n",
      "11/25/2017  08:49 PM            16,576 MyDF.p\n",
      "11/25/2017  08:49 PM            16,576 MyDFpd.p\n",
      "11/25/2017  08:49 PM             4,252 MyDFpdCompressed.p\n",
      "11/25/2017  08:49 PM               178 MyDictionary.p\n",
      "11/25/2017  08:48 PM            18,741 Python Serialization.ipynb\n",
      "11/12/2017  06:23 PM                69 README.md\n",
      "               9 File(s)        620,625 bytes\n",
      "               3 Dir(s)  688,604,397,568 bytes free\n"
     ]
    }
   ],
   "source": [
    "#Save using pickle API\n",
    "savePickle(df,\"MyDF.p\") \n",
    "#Save using DF's API\n",
    "df.to_pickle(\"MyDFpd.p\")\n",
    "#Save using DF's API and  compression\n",
    "df.to_pickle(\"MyDFpdCompressed.p\",compression ='gzip')\n",
    "%ls"
   ]
  },
  {
   "cell_type": "markdown",
   "metadata": {},
   "source": [
    "# Save model \n",
    "\n",
    "\n",
    "Pickle can be used to save and load a pre trainined scikit model\n"
   ]
  },
  {
   "cell_type": "code",
   "execution_count": 9,
   "metadata": {},
   "outputs": [
    {
     "name": "stdout",
     "output_type": "stream",
     "text": [
      "* Training sample size :  353\n",
      "* Validation sample size :  89\n",
      "DecisionTreeClassifier(class_weight=None, criterion='gini', max_depth=None,\n",
      "            max_features=None, max_leaf_nodes=None,\n",
      "            min_impurity_decrease=0.0, min_impurity_split=None,\n",
      "            min_samples_leaf=1, min_samples_split=5,\n",
      "            min_weight_fraction_leaf=0.0, presort=False, random_state=1024,\n",
      "            splitter='best')\n"
     ]
    },
    {
     "name": "stderr",
     "output_type": "stream",
     "text": [
      "e:\\Anaconda2\\envs\\py36\\lib\\site-packages\\sklearn\\cross_validation.py:41: DeprecationWarning: This module was deprecated in version 0.18 in favor of the model_selection module into which all the refactored classes and functions are moved. Also note that the interface of the new CV iterators are different from that of this module. This module will be removed in 0.20.\n",
      "  \"This module will be removed in 0.20.\", DeprecationWarning)\n"
     ]
    }
   ],
   "source": [
    "from sklearn import datasets\n",
    "from sklearn import tree\n",
    "from sklearn.cross_validation import train_test_split\n",
    "from sklearn.cross_validation import  cross_val_score\n",
    "\n",
    "diabetes = datasets.load_diabetes()\n",
    "X = diabetes.data\n",
    "y = diabetes.target\n",
    "\n",
    "X_train, X_test, y_train, y_test = train_test_split(X, y, test_size=0.20, random_state=42)\n",
    "\n",
    "print (\"* Training sample size : \", len(X_train))\n",
    "print (\"* Validation sample size : \", len(X_test))\n",
    "\n",
    "dt = tree.DecisionTreeClassifier(criterion='gini',min_samples_split=5, random_state=1024)\n",
    "dt.fit(X_train, y_train)\n",
    "\n",
    "\n",
    "print(dt)\n",
    "savePickle(dt,\"DecisionTree.p\")\n"
   ]
  },
  {
   "cell_type": "code",
   "execution_count": 10,
   "metadata": {},
   "outputs": [
    {
     "name": "stdout",
     "output_type": "stream",
     "text": [
      "Training score is 0.592068\n",
      "Model depth is 24\n"
     ]
    }
   ],
   "source": [
    "def printScores(amodel, xtrain,ytrain):\n",
    "    tscores = amodel.score( xtrain, ytrain)\n",
    "    print (\"Training score is %f\" % tscores)\n",
    "    print (\"Model depth is %i\" % amodel.tree_.max_depth )\n",
    "    \n",
    "printScores(dt,X_train,y_train)\n",
    "   "
   ]
  },
  {
   "cell_type": "markdown",
   "metadata": {},
   "source": [
    "## Load the Model \n"
   ]
  },
  {
   "cell_type": "code",
   "execution_count": 11,
   "metadata": {},
   "outputs": [
    {
     "name": "stdout",
     "output_type": "stream",
     "text": [
      "DecisionTreeClassifier(class_weight=None, criterion='gini', max_depth=None,\n",
      "            max_features=None, max_leaf_nodes=None,\n",
      "            min_impurity_decrease=0.0, min_impurity_split=None,\n",
      "            min_samples_leaf=1, min_samples_split=5,\n",
      "            min_weight_fraction_leaf=0.0, presort=False, random_state=1024,\n",
      "            splitter='best')\n",
      "Training score is 0.592068\n",
      "Model depth is 24\n"
     ]
    }
   ],
   "source": [
    "newDT = loadPickle(\"DecisionTree.p\")\n",
    "\n",
    "print(newDT)\n",
    "\n",
    "printScores(newDT,X_train,y_train)\n"
   ]
  },
  {
   "cell_type": "markdown",
   "metadata": {},
   "source": [
    "## References\n",
    "\n",
    "\n",
    " * https://docs.python.org/3/library/pickle.html\n",
    " * [Scikit Learn Model persistance](http://scikit-learn.org/stable/modules/model_persistence.html)\n",
    " * [Pandas and Pickle](https://pandas.pydata.org/pandas-docs/stable/generated/pandas.DataFrame.to_pickle.html)\n",
    " * [Understanding Python pickling and how to use it securely](https://www.synopsys.com/blogs/software-security/python-pickling/)\n",
    " * [Serialization](https://en.wikipedia.org/wiki/Serialization)\n",
    " \n",
    "### Other Serialization options\n",
    " \n",
    "  * [MessagePack](https://msgpack.org/)\n",
    "  * [Json Seralizer](https://docs.python.org/2/library/json.html)\n",
    "  * [CloudPickle](https://github.com/cloudpipe/cloudpickle)\n",
    "  * [pyyaml](http://pyyaml.org/wiki/PyYAMLDocumentation)\n",
    "  * [Camel](http://camel.readthedocs.io/en/latest/)\n",
    "  * [Joblib.dump](https://pythonhosted.org/joblib/generated/joblib.dump.html)\n",
    " "
   ]
  },
  {
   "cell_type": "code",
   "execution_count": null,
   "metadata": {
    "collapsed": true
   },
   "outputs": [],
   "source": []
  },
  {
   "cell_type": "code",
   "execution_count": null,
   "metadata": {
    "collapsed": true
   },
   "outputs": [],
   "source": []
  }
 ],
 "metadata": {
  "anaconda-cloud": {},
  "kernelspec": {
   "display_name": "Python 3",
   "language": "python",
   "name": "python3"
  },
  "language_info": {
   "codemirror_mode": {
    "name": "ipython",
    "version": 3
   },
   "file_extension": ".py",
   "mimetype": "text/x-python",
   "name": "python",
   "nbconvert_exporter": "python",
   "pygments_lexer": "ipython3",
   "version": "3.6.3"
  }
 },
 "nbformat": 4,
 "nbformat_minor": 2
}
